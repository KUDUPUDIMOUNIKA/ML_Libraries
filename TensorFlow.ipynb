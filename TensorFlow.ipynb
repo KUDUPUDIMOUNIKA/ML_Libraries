{
  "nbformat": 4,
  "nbformat_minor": 0,
  "metadata": {
    "colab": {
      "provenance": [],
      "authorship_tag": "ABX9TyOKWU18i0Q80U6tkRJQ494o",
      "include_colab_link": true
    },
    "kernelspec": {
      "name": "python3",
      "display_name": "Python 3"
    },
    "language_info": {
      "name": "python"
    }
  },
  "cells": [
    {
      "cell_type": "markdown",
      "metadata": {
        "id": "view-in-github",
        "colab_type": "text"
      },
      "source": [
        "<a href=\"https://colab.research.google.com/github/KUDUPUDIMOUNIKA/ML_Libraries/blob/main/TensorFlow.ipynb\" target=\"_parent\"><img src=\"https://colab.research.google.com/assets/colab-badge.svg\" alt=\"Open In Colab\"/></a>"
      ]
    },
    {
      "cell_type": "markdown",
      "source": [
        "## tensor flow is powerful deep learning library in python\n",
        "######-->tensors are multi dimensional arrays\n",
        "######-->flow is numerical computation via graphs\n",
        "tensors prerequisited are linear algebra,vector calcus,python syntax"
      ],
      "metadata": {
        "id": "Fq6vgsyuKH8c"
      }
    },
    {
      "cell_type": "code",
      "execution_count": null,
      "metadata": {
        "id": "2tcBoXw5T6HY"
      },
      "outputs": [],
      "source": [
        "%tensor"
      ]
    }
  ]
}