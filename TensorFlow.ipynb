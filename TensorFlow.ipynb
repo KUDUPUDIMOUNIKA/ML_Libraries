{
  "nbformat": 4,
  "nbformat_minor": 0,
  "metadata": {
    "colab": {
      "provenance": [],
      "authorship_tag": "ABX9TyO+s+CqYYI04V5DH+qKiHi8",
      "include_colab_link": true
    },
    "kernelspec": {
      "name": "python3",
      "display_name": "Python 3"
    },
    "language_info": {
      "name": "python"
    }
  },
  "cells": [
    {
      "cell_type": "markdown",
      "metadata": {
        "id": "view-in-github",
        "colab_type": "text"
      },
      "source": [
        "<a href=\"https://colab.research.google.com/github/KUDUPUDIMOUNIKA/ML_Libraries/blob/main/TensorFlow.ipynb\" target=\"_parent\"><img src=\"https://colab.research.google.com/assets/colab-badge.svg\" alt=\"Open In Colab\"/></a>"
      ]
    },
    {
      "cell_type": "markdown",
      "source": [
        "##tensor flow is powerful deep learning library in python\n",
        "######-->tensors are multi dimensional arrays\n",
        "######-->flow is numerical computation via graphs\n",
        "tensors prerequisited are linear algebra,vector calcus,python syntax"
      ],
      "metadata": {
        "id": "Fq6vgsyuKH8c"
      }
    },
    {
      "cell_type": "code",
      "execution_count": 1,
      "metadata": {
        "id": "2tcBoXw5T6HY"
      },
      "outputs": [],
      "source": [
        "import tensorflow as tf"
      ]
    },
    {
      "cell_type": "code",
      "source": [
        "#tensors are of 3 types constants,variables,placeholders\n",
        "x= tf.constant(10.0)\n",
        "y=tf.constant(15.0)\n",
        "z=x+y\n",
        "print(z)"
      ],
      "metadata": {
        "id": "Ypp9gzhZUodG",
        "outputId": "62f07d8d-1fe1-43c3-9014-3bb7a7008234",
        "colab": {
          "base_uri": "https://localhost:8080/"
        }
      },
      "execution_count": 2,
      "outputs": [
        {
          "output_type": "stream",
          "name": "stdout",
          "text": [
            "tf.Tensor(25.0, shape=(), dtype=float32)\n"
          ]
        }
      ]
    },
    {
      "cell_type": "markdown",
      "source": [
        "Step 1: Load MNIST dataset and convert sames to floating point numbers from integers"
      ],
      "metadata": {
        "id": "ZFKdvqQUpWYE"
      }
    },
    {
      "cell_type": "code",
      "source": [
        "import tensorflow as tf"
      ],
      "metadata": {
        "id": "8IA6w6AVpi7c"
      },
      "execution_count": 3,
      "outputs": []
    },
    {
      "cell_type": "code",
      "source": [
        "mnist = tf.keras.datasets.mnist\n",
        "(x_train,y_train),(x_test,y_test)=mnist.load_data()\n",
        "x_train,x_test=x_train/255.0,x_test/255.0"
      ],
      "metadata": {
        "id": "tJkMB-wlpM_z",
        "outputId": "f7f9f6bb-228f-4913-ab43-84207061ba24",
        "colab": {
          "base_uri": "https://localhost:8080/"
        }
      },
      "execution_count": 5,
      "outputs": [
        {
          "output_type": "stream",
          "name": "stdout",
          "text": [
            "Downloading data from https://storage.googleapis.com/tensorflow/tf-keras-datasets/mnist.npz\n",
            "\u001b[1m11490434/11490434\u001b[0m \u001b[32m━━━━━━━━━━━━━━━━━━━━\u001b[0m\u001b[37m\u001b[0m \u001b[1m0s\u001b[0m 0us/step\n"
          ]
        }
      ]
    },
    {
      "cell_type": "markdown",
      "source": [
        "Step 2: Build a model, choose an optimiser and the loss function"
      ],
      "metadata": {
        "id": "vW8XWcBEqVqC"
      }
    },
    {
      "cell_type": "code",
      "source": [
        "model=tf.keras.models.sequential([\n",
        "\n",
        "])"
      ],
      "metadata": {
        "id": "SyBskZXXqgci"
      },
      "execution_count": null,
      "outputs": []
    }
  ]
}